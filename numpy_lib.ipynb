{
  "nbformat": 4,
  "nbformat_minor": 0,
  "metadata": {
    "colab": {
      "provenance": [],
      "authorship_tag": "ABX9TyMF++wZ/L0upFj52WWA0L5e",
      "include_colab_link": true
    },
    "kernelspec": {
      "name": "python3",
      "display_name": "Python 3"
    },
    "language_info": {
      "name": "python"
    }
  },
  "cells": [
    {
      "cell_type": "markdown",
      "metadata": {
        "id": "view-in-github",
        "colab_type": "text"
      },
      "source": [
        "<a href=\"https://colab.research.google.com/github/BhavanaNannuru/Fundamentals-of-Data-science/blob/main/numpy_lib.ipynb\" target=\"_parent\"><img src=\"https://colab.research.google.com/assets/colab-badge.svg\" alt=\"Open In Colab\"/></a>"
      ]
    },
    {
      "cell_type": "code",
      "execution_count": 3,
      "metadata": {
        "id": "QSVjPxEdsxl0"
      },
      "outputs": [],
      "source": [
        "import numpy as np\n"
      ]
    },
    {
      "cell_type": "code",
      "source": [
        "arr=np.array([1,2,3,4,5])\n",
        "print(arr)"
      ],
      "metadata": {
        "colab": {
          "base_uri": "https://localhost:8080/"
        },
        "id": "4yL-cDpGs3HR",
        "outputId": "05b3d814-cc3d-4df1-a40e-7eb493b9f5d2"
      },
      "execution_count": 5,
      "outputs": [
        {
          "output_type": "stream",
          "name": "stdout",
          "text": [
            "[1 2 3 4 5]\n"
          ]
        }
      ]
    },
    {
      "cell_type": "code",
      "source": [
        "print(np.__version__)"
      ],
      "metadata": {
        "colab": {
          "base_uri": "https://localhost:8080/"
        },
        "id": "KfURgW0Gs_0Z",
        "outputId": "9f4d7913-e6a8-42de-cb27-93e7af040100"
      },
      "execution_count": 6,
      "outputs": [
        {
          "output_type": "stream",
          "name": "stdout",
          "text": [
            "1.23.5\n"
          ]
        }
      ]
    },
    {
      "cell_type": "code",
      "source": [
        "print(type(arr))"
      ],
      "metadata": {
        "colab": {
          "base_uri": "https://localhost:8080/"
        },
        "id": "9Nku6AwItNhs",
        "outputId": "ed061909-943a-4c4d-d2c2-d20348e45c75"
      },
      "execution_count": 7,
      "outputs": [
        {
          "output_type": "stream",
          "name": "stdout",
          "text": [
            "<class 'numpy.ndarray'>\n"
          ]
        }
      ]
    },
    {
      "cell_type": "code",
      "source": [
        "print(np.array(42))\n",
        "print()\n",
        "print(np.array([1,2]))\n",
        "print()\n",
        "print(np.array([[1,2],[2,3]]))\n",
        "print()\n",
        "print(np.array([[[1,2,3],[2,3,4]],[[2,4,5],[1,4,5]]]))"
      ],
      "metadata": {
        "colab": {
          "base_uri": "https://localhost:8080/"
        },
        "id": "3RMWtuF_tREn",
        "outputId": "9a6c3ad0-4d54-4437-8a27-34cbe04c5268"
      },
      "execution_count": 13,
      "outputs": [
        {
          "output_type": "stream",
          "name": "stdout",
          "text": [
            "42\n",
            "\n",
            "[1 2]\n",
            "\n",
            "[[1 2]\n",
            " [2 3]]\n",
            "\n",
            "[[[1 2 3]\n",
            "  [2 3 4]]\n",
            "\n",
            " [[2 4 5]\n",
            "  [1 4 5]]]\n"
          ]
        }
      ]
    },
    {
      "cell_type": "code",
      "source": [
        "arr=np.array((1,2,3))\n",
        "print(arr.ndim)"
      ],
      "metadata": {
        "colab": {
          "base_uri": "https://localhost:8080/"
        },
        "id": "ZAHMwPYZuMFQ",
        "outputId": "26952336-6778-4138-cd73-a453d56039db"
      },
      "execution_count": 14,
      "outputs": [
        {
          "output_type": "stream",
          "name": "stdout",
          "text": [
            "1\n"
          ]
        }
      ]
    },
    {
      "cell_type": "code",
      "source": [
        "print(arr[0])\n",
        "print(arr[-1])"
      ],
      "metadata": {
        "colab": {
          "base_uri": "https://localhost:8080/"
        },
        "id": "8k1RckvHuTeb",
        "outputId": "31639a31-4f49-4e50-df8f-10cd00340ac2"
      },
      "execution_count": 17,
      "outputs": [
        {
          "output_type": "stream",
          "name": "stdout",
          "text": [
            "1\n",
            "3\n"
          ]
        }
      ]
    },
    {
      "cell_type": "code",
      "source": [
        "arr=np.array([[1,2,3],[4,5,6]])\n",
        "print(arr[1,2])\n",
        "arr=np.array([[[1,2,3],[2,3,4]],[[2,4,5],[1,4,5]]])\n",
        "print(arr[1,1])\n",
        "print(arr[1,1,-1])"
      ],
      "metadata": {
        "colab": {
          "base_uri": "https://localhost:8080/"
        },
        "id": "UdviZImvuozs",
        "outputId": "c8c7962c-04b7-4b86-e09c-74864543934b"
      },
      "execution_count": 21,
      "outputs": [
        {
          "output_type": "stream",
          "name": "stdout",
          "text": [
            "6\n",
            "[1 4 5]\n",
            "5\n"
          ]
        }
      ]
    },
    {
      "cell_type": "code",
      "source": [
        "arr=np.array((1,2,3))\n",
        "print(arr)\n",
        "print(arr[0:])\n",
        "print(arr[:-1])\n",
        "print(arr[:])\n",
        "print(arr[1:3])"
      ],
      "metadata": {
        "colab": {
          "base_uri": "https://localhost:8080/"
        },
        "id": "oHLX0m5bvTGe",
        "outputId": "a3493c7b-b857-4989-c57d-175469bbfbbf"
      },
      "execution_count": 24,
      "outputs": [
        {
          "output_type": "stream",
          "name": "stdout",
          "text": [
            "[1 2 3]\n",
            "[1 2 3]\n",
            "[1 2]\n",
            "[1 2 3]\n",
            "[2 3]\n"
          ]
        }
      ]
    },
    {
      "cell_type": "code",
      "source": [
        "arr = np.array([[1, 2, 3, 4, 5], [6, 7, 8, 9, 10]])\n",
        "print(arr)\n",
        "print()\n",
        "print(arr[0:2,2])\n",
        "print(arr[0:1,:-1])"
      ],
      "metadata": {
        "colab": {
          "base_uri": "https://localhost:8080/"
        },
        "id": "pZ17bxmxvysy",
        "outputId": "e698f6b5-2d39-484c-c30d-455cbca821a5"
      },
      "execution_count": 28,
      "outputs": [
        {
          "output_type": "stream",
          "name": "stdout",
          "text": [
            "[[ 1  2  3  4  5]\n",
            " [ 6  7  8  9 10]]\n",
            "\n",
            "[3 8]\n",
            "[[1 2 3 4]]\n"
          ]
        }
      ]
    },
    {
      "cell_type": "code",
      "source": [
        "arr=np.array([1,2,3])\n",
        "print(arr)\n",
        "print(arr.dtype)\n",
        "arr= np.array([1,'2',3])\n",
        "print(arr)\n",
        "print(arr.dtype)\n",
        "arr=np.array([1.2,34,5,23.67])\n",
        "print(arr)\n",
        "print(arr.dtype)\n",
        "arr=arr.astype(int)\n",
        "print(arr)\n",
        "print(arr.dtype)\n",
        "print()\n",
        "arr=arr.astype('i')\n",
        "print(arr)\n",
        "print(arr.dtype)\n",
        "\n",
        "arr=arr.astype(bool)\n",
        "print(arr)\n",
        "print(arr.dtype)"
      ],
      "metadata": {
        "colab": {
          "base_uri": "https://localhost:8080/"
        },
        "id": "zF_kZ025wYr_",
        "outputId": "af3cd4d8-c1ad-4953-a062-6e6dbd52ed4d"
      },
      "execution_count": 33,
      "outputs": [
        {
          "output_type": "stream",
          "name": "stdout",
          "text": [
            "[1 2 3]\n",
            "int64\n",
            "['1' '2' '3']\n",
            "<U21\n",
            "[ 1.2  34.    5.   23.67]\n",
            "float64\n",
            "[ 1 34  5 23]\n",
            "int64\n",
            "\n",
            "[ 1 34  5 23]\n",
            "int32\n",
            "[ True  True  True  True]\n",
            "bool\n"
          ]
        }
      ]
    },
    {
      "cell_type": "code",
      "source": [
        "arr=np.array([2,4,86,2,3])\n",
        "print(arr)\n",
        "print(arr.dtype)\n",
        "x=arr.copy()\n",
        "print(x)\n",
        "arr[0]=7896\n",
        "print(x)\n",
        "print(arr)"
      ],
      "metadata": {
        "colab": {
          "base_uri": "https://localhost:8080/"
        },
        "id": "rh0ThruyvljS",
        "outputId": "2cce3e66-2155-4d0a-d0d6-32afcbe5338a"
      },
      "execution_count": 35,
      "outputs": [
        {
          "output_type": "stream",
          "name": "stdout",
          "text": [
            "[ 2  4 86  2  3]\n",
            "int64\n",
            "[ 2  4 86  2  3]\n",
            "[ 2  4 86  2  3]\n",
            "[7896    4   86    2    3]\n"
          ]
        }
      ]
    },
    {
      "cell_type": "code",
      "source": [
        "arr=np.array([2,4,86,2,3])\n",
        "print(arr)\n",
        "print(arr.dtype)\n",
        "x=arr.view()\n",
        "print(x)\n",
        "arr[0]=7896\n",
        "print(x)\n",
        "print(arr)\n",
        "print()\n",
        "x[1]=0\n",
        "print(x)\n",
        "print(arr)"
      ],
      "metadata": {
        "colab": {
          "base_uri": "https://localhost:8080/"
        },
        "id": "aTIja9tY02yh",
        "outputId": "282e834f-aee5-4547-e6e3-aedd390e4fdb"
      },
      "execution_count": 41,
      "outputs": [
        {
          "output_type": "stream",
          "name": "stdout",
          "text": [
            "[ 2  4 86  2  3]\n",
            "int64\n",
            "[ 2  4 86  2  3]\n",
            "[7896    4   86    2    3]\n",
            "[7896    4   86    2    3]\n",
            "\n",
            "[7896    0   86    2    3]\n",
            "[7896    0   86    2    3]\n"
          ]
        }
      ]
    },
    {
      "cell_type": "code",
      "source": [
        "arr=np.array([1,2,3,4,5])\n",
        "print(arr)\n",
        "print(arr.shape)\n",
        "x=arr.copy()\n",
        "print(x.base)\n",
        "x[1]=0\n",
        "print(x)\n",
        "print(x.base)\n",
        "\n",
        "y=arr.view()\n",
        "print()\n",
        "print(y.base)"
      ],
      "metadata": {
        "colab": {
          "base_uri": "https://localhost:8080/"
        },
        "id": "8XaUuHFM1XrF",
        "outputId": "fec916cb-eb2c-4c3e-efed-e11d04268907"
      },
      "execution_count": 54,
      "outputs": [
        {
          "output_type": "stream",
          "name": "stdout",
          "text": [
            "[1 2 3 4 5]\n",
            "(5,)\n",
            "None\n",
            "[1 0 3 4 5]\n",
            "None\n",
            "\n",
            "[1 2 3 4 5]\n"
          ]
        }
      ]
    },
    {
      "cell_type": "code",
      "source": [
        "arr = np.array([[1, 2, 3, 4], [5, 6, 7, 8]])\n",
        "print(arr.shape)"
      ],
      "metadata": {
        "colab": {
          "base_uri": "https://localhost:8080/"
        },
        "id": "q1qN5xvg10Nz",
        "outputId": "5fdfe557-7b4a-42b6-fa91-72fc331900ff"
      },
      "execution_count": 47,
      "outputs": [
        {
          "output_type": "stream",
          "name": "stdout",
          "text": [
            "(2, 4)\n"
          ]
        }
      ]
    },
    {
      "cell_type": "code",
      "source": [
        "arr=np.array([1,2,3,4],ndmin=5)\n",
        "print(arr)\n",
        "print(arr.shape)\n",
        "print(arr[-1])"
      ],
      "metadata": {
        "colab": {
          "base_uri": "https://localhost:8080/"
        },
        "id": "gRx_gGrU2Gfo",
        "outputId": "5580827b-da8b-4584-9f94-4cb0f8e0701a"
      },
      "execution_count": 50,
      "outputs": [
        {
          "output_type": "stream",
          "name": "stdout",
          "text": [
            "[[[[[1 2 3 4]]]]]\n",
            "(1, 1, 1, 1, 4)\n",
            "[[[[1 2 3 4]]]]\n"
          ]
        }
      ]
    },
    {
      "cell_type": "code",
      "source": [
        "arr=np.array([1,2,3,4,5,6,7,8,90,12,24,21,56,34,67])\n",
        "print(arr)\n",
        "print(arr.dtype)\n",
        "print(arr.shape)\n",
        "arr=arr.reshape(5,3)\n",
        "print(arr)\n",
        "print(arr.shape)\n",
        "print()\n",
        "print()\n",
        "arr=np.array([1,2,3,4,5,6,7,8,90,12,24,21,56,34,67])\n",
        "print(arr)\n",
        "print(arr.shape)\n",
        "arr = arr.reshape(3,5,1)\n",
        "print(arr)\n",
        "print(arr.shape)\n",
        "print(arr.dtype)\n",
        "arr=arr.astype('i')\n",
        "print(arr)\n",
        "print(arr.shape)\n",
        "print(arr.dtype)\n"
      ],
      "metadata": {
        "colab": {
          "base_uri": "https://localhost:8080/"
        },
        "id": "rH38TVyc2lF8",
        "outputId": "e8f8a14e-6468-45bd-9ac0-e97991655527"
      },
      "execution_count": 58,
      "outputs": [
        {
          "output_type": "stream",
          "name": "stdout",
          "text": [
            "[ 1  2  3  4  5  6  7  8 90 12 24 21 56 34 67]\n",
            "int64\n",
            "(15,)\n",
            "[[ 1  2  3]\n",
            " [ 4  5  6]\n",
            " [ 7  8 90]\n",
            " [12 24 21]\n",
            " [56 34 67]]\n",
            "(5, 3)\n",
            "\n",
            "\n",
            "[ 1  2  3  4  5  6  7  8 90 12 24 21 56 34 67]\n",
            "(15,)\n",
            "[[[ 1]\n",
            "  [ 2]\n",
            "  [ 3]\n",
            "  [ 4]\n",
            "  [ 5]]\n",
            "\n",
            " [[ 6]\n",
            "  [ 7]\n",
            "  [ 8]\n",
            "  [90]\n",
            "  [12]]\n",
            "\n",
            " [[24]\n",
            "  [21]\n",
            "  [56]\n",
            "  [34]\n",
            "  [67]]]\n",
            "(3, 5, 1)\n",
            "int64\n",
            "[[[ 1]\n",
            "  [ 2]\n",
            "  [ 3]\n",
            "  [ 4]\n",
            "  [ 5]]\n",
            "\n",
            " [[ 6]\n",
            "  [ 7]\n",
            "  [ 8]\n",
            "  [90]\n",
            "  [12]]\n",
            "\n",
            " [[24]\n",
            "  [21]\n",
            "  [56]\n",
            "  [34]\n",
            "  [67]]]\n",
            "(3, 5, 1)\n",
            "int32\n"
          ]
        }
      ]
    },
    {
      "cell_type": "code",
      "source": [
        "arr=np.array([1,2,3,4,5,6,7,8,90,12,24,21,56,34,67])\n",
        "print(arr)\n",
        "x=arr.reshape(5,3)\n",
        "print(x.base)\n",
        "x[0]=[0,9,0]\n",
        "print(x)\n",
        "print(arr)\n",
        "x=x.reshape(-1)\n",
        "print(x)\n",
        "print(x.shape)\n",
        "x=x.reshape(3,-1)\n",
        "print(x)\n",
        "print(x.shape)\n",
        "x[0][1]=90809\n",
        "print(arr)\n",
        "print(x)\n",
        "print(x.reshape(-1))"
      ],
      "metadata": {
        "colab": {
          "base_uri": "https://localhost:8080/"
        },
        "id": "t7rCypSh5euO",
        "outputId": "77ea1e1e-ba82-4c97-e140-b4b4d87e9963"
      },
      "execution_count": 63,
      "outputs": [
        {
          "output_type": "stream",
          "name": "stdout",
          "text": [
            "[ 1  2  3  4  5  6  7  8 90 12 24 21 56 34 67]\n",
            "[ 1  2  3  4  5  6  7  8 90 12 24 21 56 34 67]\n",
            "[[ 0  9  0]\n",
            " [ 4  5  6]\n",
            " [ 7  8 90]\n",
            " [12 24 21]\n",
            " [56 34 67]]\n",
            "[ 0  9  0  4  5  6  7  8 90 12 24 21 56 34 67]\n",
            "[ 0  9  0  4  5  6  7  8 90 12 24 21 56 34 67]\n",
            "(15,)\n",
            "[[ 0  9  0  4  5]\n",
            " [ 6  7  8 90 12]\n",
            " [24 21 56 34 67]]\n",
            "(3, 5)\n",
            "[    0 90809     0     4     5     6     7     8    90    12    24    21\n",
            "    56    34    67]\n",
            "[[    0 90809     0     4     5]\n",
            " [    6     7     8    90    12]\n",
            " [   24    21    56    34    67]]\n",
            "[    0 90809     0     4     5     6     7     8    90    12    24    21\n",
            "    56    34    67]\n"
          ]
        }
      ]
    },
    {
      "cell_type": "code",
      "source": [
        "print(arr)\n",
        "for i in arr:\n",
        "  print(i,end=\"  \")"
      ],
      "metadata": {
        "colab": {
          "base_uri": "https://localhost:8080/"
        },
        "id": "0aXD-sZ06ZQ2",
        "outputId": "bb958862-4800-4eea-9039-4d23eecbbe49"
      },
      "execution_count": 67,
      "outputs": [
        {
          "output_type": "stream",
          "name": "stdout",
          "text": [
            "[    0 90809     0     4     5     6     7     8    90    12    24    21\n",
            "    56    34    67]\n",
            "0  90809  0  4  5  6  7  8  90  12  24  21  56  34  67  "
          ]
        }
      ]
    },
    {
      "cell_type": "code",
      "source": [
        "arr=arr.reshape(3,-1)\n",
        "for i in arr:\n",
        "  print(i)"
      ],
      "metadata": {
        "colab": {
          "base_uri": "https://localhost:8080/"
        },
        "id": "UlMExZxO6hYw",
        "outputId": "9cf447b7-6fbd-41dc-ebc2-5362e6f56f62"
      },
      "execution_count": 69,
      "outputs": [
        {
          "output_type": "stream",
          "name": "stdout",
          "text": [
            "[    0 90809     0     4     5]\n",
            "[ 6  7  8 90 12]\n",
            "[24 21 56 34 67]\n"
          ]
        }
      ]
    },
    {
      "cell_type": "code",
      "source": [
        "for i in x:\n",
        "  for j in i:\n",
        "    print(j,end=' ')\n",
        "  print()"
      ],
      "metadata": {
        "colab": {
          "base_uri": "https://localhost:8080/"
        },
        "id": "aD6taKqH67L4",
        "outputId": "393bb0fd-5814-48a8-e7f1-1765366882dc"
      },
      "execution_count": 70,
      "outputs": [
        {
          "output_type": "stream",
          "name": "stdout",
          "text": [
            "0 90809 0 4 5 \n",
            "6 7 8 90 12 \n",
            "24 21 56 34 67 \n"
          ]
        }
      ]
    },
    {
      "cell_type": "code",
      "source": [
        "print(arr)\n",
        "for x in np.nditer(arr):\n",
        "  print(x)\n"
      ],
      "metadata": {
        "colab": {
          "base_uri": "https://localhost:8080/"
        },
        "id": "H0aNX_GM7kEo",
        "outputId": "4bfc22ec-69d5-4012-a7cc-bcc986eec603"
      },
      "execution_count": 71,
      "outputs": [
        {
          "output_type": "stream",
          "name": "stdout",
          "text": [
            "[[    0 90809     0     4     5]\n",
            " [    6     7     8    90    12]\n",
            " [   24    21    56    34    67]]\n",
            "0\n",
            "90809\n",
            "0\n",
            "4\n",
            "5\n",
            "6\n",
            "7\n",
            "8\n",
            "90\n",
            "12\n",
            "24\n",
            "21\n",
            "56\n",
            "34\n",
            "67\n"
          ]
        }
      ]
    },
    {
      "cell_type": "code",
      "source": [
        "print(arr)\n",
        "print(arr.dtype)\n",
        "for i in np.nditer(arr,flags=['buffered'],op_dtypes=['S']):\n",
        "  print(i)"
      ],
      "metadata": {
        "colab": {
          "base_uri": "https://localhost:8080/"
        },
        "id": "JZfd3xLi8xDz",
        "outputId": "158bf073-b477-4c73-c3ce-89a5937c8c2c"
      },
      "execution_count": 72,
      "outputs": [
        {
          "output_type": "stream",
          "name": "stdout",
          "text": [
            "[[    0 90809     0     4     5]\n",
            " [    6     7     8    90    12]\n",
            " [   24    21    56    34    67]]\n",
            "int64\n",
            "b'0'\n",
            "b'90809'\n",
            "b'0'\n",
            "b'4'\n",
            "b'5'\n",
            "b'6'\n",
            "b'7'\n",
            "b'8'\n",
            "b'90'\n",
            "b'12'\n",
            "b'24'\n",
            "b'21'\n",
            "b'56'\n",
            "b'34'\n",
            "b'67'\n"
          ]
        }
      ]
    },
    {
      "cell_type": "code",
      "source": [
        "arr=np.array([[1,2,3,4,5],[9,8,7,6,5]])\n",
        "print(arr)\n",
        "for x in np.nditer(arr[:,::2]):\n",
        "  print(x)"
      ],
      "metadata": {
        "colab": {
          "base_uri": "https://localhost:8080/"
        },
        "id": "GO8hqYY69Ny6",
        "outputId": "f97c9fd7-78d2-413d-aeab-e020246523a1"
      },
      "execution_count": 75,
      "outputs": [
        {
          "output_type": "stream",
          "name": "stdout",
          "text": [
            "[[1 2 3 4 5]\n",
            " [9 8 7 6 5]]\n",
            "1\n",
            "3\n",
            "5\n",
            "9\n",
            "7\n",
            "5\n"
          ]
        }
      ]
    },
    {
      "cell_type": "code",
      "source": [
        "a=[1,2,3]\n",
        "a=np.array(a)\n",
        "print(a)\n",
        "for index,val in np.ndenumerate(a):\n",
        "  print(index,val)"
      ],
      "metadata": {
        "colab": {
          "base_uri": "https://localhost:8080/"
        },
        "id": "aOqFbbAb-KLs",
        "outputId": "3c066665-ce42-4647-a647-53320b06b549"
      },
      "execution_count": 77,
      "outputs": [
        {
          "output_type": "stream",
          "name": "stdout",
          "text": [
            "[1 2 3]\n",
            "(0,) 1\n",
            "(1,) 2\n",
            "(2,) 3\n"
          ]
        }
      ]
    },
    {
      "cell_type": "code",
      "source": [
        "print(arr)\n",
        "for i,x in np.ndenumerate(arr):\n",
        "  print(i,x)"
      ],
      "metadata": {
        "colab": {
          "base_uri": "https://localhost:8080/"
        },
        "id": "wEh5yMZL93LC",
        "outputId": "f15e1b41-ee37-4e48-f07f-9d4f75493057"
      },
      "execution_count": 76,
      "outputs": [
        {
          "output_type": "stream",
          "name": "stdout",
          "text": [
            "[[1 2 3 4 5]\n",
            " [9 8 7 6 5]]\n",
            "(0, 0) 1\n",
            "(0, 1) 2\n",
            "(0, 2) 3\n",
            "(0, 3) 4\n",
            "(0, 4) 5\n",
            "(1, 0) 9\n",
            "(1, 1) 8\n",
            "(1, 2) 7\n",
            "(1, 3) 6\n",
            "(1, 4) 5\n"
          ]
        }
      ]
    },
    {
      "cell_type": "code",
      "source": [
        "a=[1,2,3]\n",
        "a=np.array(a)\n",
        "a=list(a)\n",
        "a.append(12)\n",
        "a=np.array(a)\n",
        "print(a)\n",
        "print(a.shape)\n",
        "print(a.dtype)\n"
      ],
      "metadata": {
        "colab": {
          "base_uri": "https://localhost:8080/"
        },
        "id": "VomoAxba-XJ9",
        "outputId": "4a14788c-7823-492c-9380-a06dd030907e"
      },
      "execution_count": 78,
      "outputs": [
        {
          "output_type": "stream",
          "name": "stdout",
          "text": [
            "[ 1  2  3 12]\n",
            "(4,)\n",
            "int64\n"
          ]
        }
      ]
    },
    {
      "cell_type": "code",
      "source": [
        "print(a)\n",
        "b=np.array([7,6,8])\n",
        "print(b)\n",
        "a=np.concatenate((a,b))\n",
        "print(a)\n",
        "print(b)"
      ],
      "metadata": {
        "colab": {
          "base_uri": "https://localhost:8080/"
        },
        "id": "lGx3s3uA_dmB",
        "outputId": "9bf47940-6cfe-4739-9d34-58e43f07c7c2"
      },
      "execution_count": 79,
      "outputs": [
        {
          "output_type": "stream",
          "name": "stdout",
          "text": [
            "[ 1  2  3 12]\n",
            "[7 6 8]\n",
            "[ 1  2  3 12  7  6  8]\n",
            "[7 6 8]\n"
          ]
        }
      ]
    },
    {
      "cell_type": "code",
      "source": [
        "a=np.array([1,2])\n",
        "print(a)\n",
        "b=np.array([7,6,8])\n",
        "print(b)\n",
        "a=np.concatenate((b,a))\n",
        "print(a)\n",
        "print(b)"
      ],
      "metadata": {
        "colab": {
          "base_uri": "https://localhost:8080/"
        },
        "id": "YV2JVTAm_1yC",
        "outputId": "0c359518-0cf0-4153-9684-bded042737ec"
      },
      "execution_count": 81,
      "outputs": [
        {
          "output_type": "stream",
          "name": "stdout",
          "text": [
            "[1 2]\n",
            "[7 6 8]\n",
            "[7 6 8 1 2]\n",
            "[7 6 8]\n"
          ]
        }
      ]
    },
    {
      "cell_type": "code",
      "source": [
        "a=np.array([[7,6,8],[1,2,3]])\n",
        "b=np.array([[9,2,7],[5,4,1]])\n",
        "arr=np.concatenate((a,b))\n",
        "print(arr)\n",
        "abc=np.concatenate((a,b),axis=1)\n",
        "print(abc)\n",
        "hel=np.concatenate((a,b),axis=2)\n",
        "print(hel)"
      ],
      "metadata": {
        "colab": {
          "base_uri": "https://localhost:8080/",
          "height": 367
        },
        "id": "g8P4WydTAPy6",
        "outputId": "80a5ad56-5762-44c0-8403-f5f096a18944"
      },
      "execution_count": 85,
      "outputs": [
        {
          "output_type": "stream",
          "name": "stdout",
          "text": [
            "[[7 6 8]\n",
            " [1 2 3]\n",
            " [9 2 7]\n",
            " [5 4 1]]\n",
            "[[7 6 8 9 2 7]\n",
            " [1 2 3 5 4 1]]\n"
          ]
        },
        {
          "output_type": "error",
          "ename": "AxisError",
          "evalue": "ignored",
          "traceback": [
            "\u001b[0;31m---------------------------------------------------------------------------\u001b[0m",
            "\u001b[0;31mAxisError\u001b[0m                                 Traceback (most recent call last)",
            "\u001b[0;32m<ipython-input-85-e22b44667629>\u001b[0m in \u001b[0;36m<cell line: 7>\u001b[0;34m()\u001b[0m\n\u001b[1;32m      5\u001b[0m \u001b[0mabc\u001b[0m\u001b[0;34m=\u001b[0m\u001b[0mnp\u001b[0m\u001b[0;34m.\u001b[0m\u001b[0mconcatenate\u001b[0m\u001b[0;34m(\u001b[0m\u001b[0;34m(\u001b[0m\u001b[0ma\u001b[0m\u001b[0;34m,\u001b[0m\u001b[0mb\u001b[0m\u001b[0;34m)\u001b[0m\u001b[0;34m,\u001b[0m\u001b[0maxis\u001b[0m\u001b[0;34m=\u001b[0m\u001b[0;36m1\u001b[0m\u001b[0;34m)\u001b[0m\u001b[0;34m\u001b[0m\u001b[0;34m\u001b[0m\u001b[0m\n\u001b[1;32m      6\u001b[0m \u001b[0mprint\u001b[0m\u001b[0;34m(\u001b[0m\u001b[0mabc\u001b[0m\u001b[0;34m)\u001b[0m\u001b[0;34m\u001b[0m\u001b[0;34m\u001b[0m\u001b[0m\n\u001b[0;32m----> 7\u001b[0;31m \u001b[0mhel\u001b[0m\u001b[0;34m=\u001b[0m\u001b[0mnp\u001b[0m\u001b[0;34m.\u001b[0m\u001b[0mconcatenate\u001b[0m\u001b[0;34m(\u001b[0m\u001b[0;34m(\u001b[0m\u001b[0ma\u001b[0m\u001b[0;34m,\u001b[0m\u001b[0mb\u001b[0m\u001b[0;34m)\u001b[0m\u001b[0;34m,\u001b[0m\u001b[0maxis\u001b[0m\u001b[0;34m=\u001b[0m\u001b[0;36m2\u001b[0m\u001b[0;34m)\u001b[0m\u001b[0;34m\u001b[0m\u001b[0;34m\u001b[0m\u001b[0m\n\u001b[0m\u001b[1;32m      8\u001b[0m \u001b[0mprint\u001b[0m\u001b[0;34m(\u001b[0m\u001b[0mhel\u001b[0m\u001b[0;34m)\u001b[0m\u001b[0;34m\u001b[0m\u001b[0;34m\u001b[0m\u001b[0m\n",
            "\u001b[0;32m/usr/local/lib/python3.10/dist-packages/numpy/core/overrides.py\u001b[0m in \u001b[0;36mconcatenate\u001b[0;34m(*args, **kwargs)\u001b[0m\n",
            "\u001b[0;31mAxisError\u001b[0m: axis 2 is out of bounds for array of dimension 2"
          ]
        }
      ]
    }
  ]
}