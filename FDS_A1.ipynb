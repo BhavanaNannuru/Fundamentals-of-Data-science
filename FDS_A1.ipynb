{
  "nbformat": 4,
  "nbformat_minor": 0,
  "metadata": {
    "colab": {
      "provenance": [],
      "authorship_tag": "ABX9TyM8aZ5PFAjugO2+tCdl9xSb",
      "include_colab_link": true
    },
    "kernelspec": {
      "name": "python3",
      "display_name": "Python 3"
    },
    "language_info": {
      "name": "python"
    }
  },
  "cells": [
    {
      "cell_type": "markdown",
      "metadata": {
        "id": "view-in-github",
        "colab_type": "text"
      },
      "source": [
        "<a href=\"https://colab.research.google.com/github/BhavanaNannuru/Fundamentals-of-Data-science/blob/main/FDS_A1.ipynb\" target=\"_parent\"><img src=\"https://colab.research.google.com/assets/colab-badge.svg\" alt=\"Open In Colab\"/></a>"
      ]
    },
    {
      "cell_type": "markdown",
      "source": [
        "Traditional Hello, World!"
      ],
      "metadata": {
        "id": "OGisIueum1cz"
      }
    },
    {
      "cell_type": "code",
      "execution_count": null,
      "metadata": {
        "id": "Krtz6KfVkf-K",
        "colab": {
          "base_uri": "https://localhost:8080/"
        },
        "outputId": "8000a993-3e50-4ad6-c053-b30157f4ba4f"
      },
      "outputs": [
        {
          "output_type": "stream",
          "name": "stdout",
          "text": [
            "Hello, World!\n"
          ]
        }
      ],
      "source": [
        "print(\"Hello, World!\")"
      ]
    },
    {
      "cell_type": "markdown",
      "source": [
        "Array Intersection: Print common elements."
      ],
      "metadata": {
        "id": "Mf5-YwAknA46"
      }
    },
    {
      "cell_type": "code",
      "source": [
        "a = set(map(int,input(\"Enter space seperated numbers array: \").split()))\n",
        "b = set(map(int,input(\"Enter space seperated numbers array: \").split()))\n",
        "print(a.intersection(b))"
      ],
      "metadata": {
        "colab": {
          "base_uri": "https://localhost:8080/"
        },
        "id": "97AgvVADnL9U",
        "outputId": "f621a30e-7e5c-4bc3-8a26-3f0cd9b1db0c"
      },
      "execution_count": null,
      "outputs": [
        {
          "output_type": "stream",
          "name": "stdout",
          "text": [
            "Enter space seperated numbers array: 1 2 3 4\n",
            "Enter space seperated numbers array: 4 5 6 1\n",
            "{1, 4}\n"
          ]
        }
      ]
    },
    {
      "cell_type": "markdown",
      "source": [
        "Array rotation using Shifting quotient"
      ],
      "metadata": {
        "id": "-hQi1pESnXnq"
      }
    },
    {
      "cell_type": "code",
      "source": [
        "arr = list(map(int,input(\"Enter space seperated integers: \").split()))\n",
        "n = int(input(\"Enter the rotation quotient: \"))\n",
        "new=[0 for i in range(len(arr))]\n",
        "for i in range(len(arr)):\n",
        "    if (i+n)<len(arr):\n",
        "        new[i]=arr[i+n]\n",
        "    else:\n",
        "        new[i] = arr[i+n-len(arr)]\n",
        "print(\"The rotated array is: \",new)"
      ],
      "metadata": {
        "colab": {
          "base_uri": "https://localhost:8080/"
        },
        "id": "hF8MBmynneU7",
        "outputId": "f06780f4-2fbe-4d16-be0b-1ab886182f02"
      },
      "execution_count": null,
      "outputs": [
        {
          "output_type": "stream",
          "name": "stdout",
          "text": [
            "Enter space seperated integers: 1 2 3 4 5\n",
            "Enter the rotation quotient: 2\n",
            "The rotated array is:  [3, 4, 5, 1, 2]\n"
          ]
        }
      ]
    },
    {
      "cell_type": "markdown",
      "source": [
        "Coin toss guessing scenario."
      ],
      "metadata": {
        "id": "JyDhGeUKniOM"
      }
    },
    {
      "cell_type": "code",
      "source": [
        "import random\n",
        "print(\"Ready?\")\n",
        "out=['heads','tails']\n",
        "win=total=loss=0\n",
        "opt='Y'\n",
        "while opt=='Y':\n",
        "    predict= out[random.randint(0,1)]\n",
        "    guess=input(\"Enter your guess heads/tails: \")\n",
        "    if predict==guess:\n",
        "        win+=1\n",
        "        print(\"CORRECT!!\")\n",
        "    else:\n",
        "        loss+=1\n",
        "        print(\"WRONG:(\")\n",
        "    total+=1\n",
        "    opt=input(\"Wanna try again? Y/N \")\n",
        "print(\"Win rate:\", (win/total)*100)\n",
        "print(\"Loose rate:\", (loss/total)*100)\n"
      ],
      "metadata": {
        "colab": {
          "base_uri": "https://localhost:8080/"
        },
        "id": "ZoAqYFs1oD08",
        "outputId": "22fe484d-d46e-482a-c25e-1622d4ebbecd"
      },
      "execution_count": null,
      "outputs": [
        {
          "output_type": "stream",
          "name": "stdout",
          "text": [
            "Ready?\n",
            "Enter your guess heads/tails: heads\n",
            "CORRECT!!\n",
            "Wanna try again? Y/N Y\n",
            "Enter your guess heads/tails: heads\n",
            "WRONG:(\n",
            "Wanna try again? Y/N N\n",
            "Win rate: 50.0\n",
            "Loose rate: 50.0\n"
          ]
        }
      ]
    },
    {
      "cell_type": "markdown",
      "source": [
        "Array comparisons"
      ],
      "metadata": {
        "id": "Jat1DYf4oU2N"
      }
    },
    {
      "cell_type": "code",
      "source": [
        "a = list(map(int,input(\"Enter space seperated numbers array: \").split()))\n",
        "b = list(map(int,input(\"Enter space seperated numbers array: \").split()))\n",
        "a.sort()\n",
        "b.sort()\n",
        "c=1\n",
        "if len(a)==len(b) and len(a)!=0 and len(b)!=0:\n",
        "    for i in range(len(a)):\n",
        "        if a[i]*a[i]!=b[i]:\n",
        "            print(\"False\")\n",
        "            c=0\n",
        "            break\n",
        "    if c==1:\n",
        "        print(\"True\")\n",
        "else:\n",
        "    print(\"INVALID\")\n"
      ],
      "metadata": {
        "colab": {
          "base_uri": "https://localhost:8080/"
        },
        "id": "uPfD4X7tobbe",
        "outputId": "053a1dfa-d363-46a8-e7fd-26d31c985cb5"
      },
      "execution_count": null,
      "outputs": [
        {
          "output_type": "stream",
          "name": "stdout",
          "text": [
            "Enter space seperated numbers array: 1 2 3 1 6 3\n",
            "Enter space seperated numbers array: 1 90 23 13 56\n",
            "INVALID\n"
          ]
        }
      ]
    },
    {
      "cell_type": "code",
      "source": [
        "Decimal to binary"
      ],
      "metadata": {
        "id": "e0n67HAiojkg"
      },
      "execution_count": null,
      "outputs": []
    },
    {
      "cell_type": "code",
      "source": [
        "n = int(input(\"Enter the number: \"))\n",
        "print(\"The binary equivalent is : \")\n",
        "binary=''\n",
        "while n>0:\n",
        "    binary+=str(n%2)\n",
        "    n=n//2\n",
        "for i in range(len(binary)-1,-1,-1):\n",
        "    print(binary[i],end='')\n",
        "\n"
      ],
      "metadata": {
        "colab": {
          "base_uri": "https://localhost:8080/"
        },
        "id": "cDq2S0cConTn",
        "outputId": "11850ab4-2f2e-4aab-8e8e-d6ac42dfc9f5"
      },
      "execution_count": null,
      "outputs": [
        {
          "output_type": "stream",
          "name": "stdout",
          "text": [
            "Enter the number: 8\n",
            "The binary equivalent is : \n",
            "1000"
          ]
        }
      ]
    },
    {
      "cell_type": "markdown",
      "source": [
        "Direction Catastrophe: Reduces the instructions which arent required. Opposite irections complement each other. Repetitive instructions reduce to one."
      ],
      "metadata": {
        "id": "5Al3B5Jeopqc"
      }
    },
    {
      "cell_type": "code",
      "source": [
        "opp={\n",
        "    'north':'south',\n",
        "    'south':'north',\n",
        "    'east':'west',\n",
        "    'west':'east'\n",
        "}\n",
        "\n",
        "n=int(input(\"Enter the number of instructions: \"))\n",
        "dir=[]\n",
        "out=[]\n",
        "for i in range(n):\n",
        "    dir.append(input(\"Enter the direction: \"))\n",
        "for i in range(n):\n",
        "    if out and dir[i] == opp[out[-1]]:\n",
        "        out.pop()\n",
        "        i+=1\n",
        "    elif out and dir[i]==out[-1]:\n",
        "        i+=1\n",
        "    else:\n",
        "        out.append(dir[i])\n",
        "for i in out:\n",
        "    print(i,end=' ')\n"
      ],
      "metadata": {
        "colab": {
          "base_uri": "https://localhost:8080/"
        },
        "id": "6cPPNpRDpB8z",
        "outputId": "a3fbf383-a589-4337-8987-70eb00a30f1e"
      },
      "execution_count": null,
      "outputs": [
        {
          "output_type": "stream",
          "name": "stdout",
          "text": [
            "Enter the number of instructions: 7\n",
            "Enter the direction: south\n",
            "Enter the direction: south\n",
            "Enter the direction: north\n",
            "Enter the direction: east\n",
            "Enter the direction: north\n",
            "Enter the direction: west\n",
            "Enter the direction: east\n",
            "east north "
          ]
        }
      ]
    },
    {
      "cell_type": "markdown",
      "source": [
        "Email Regex: Detect email addresses from a text"
      ],
      "metadata": {
        "id": "jokk29UupJ0H"
      }
    },
    {
      "cell_type": "code",
      "source": [
        "import re\n",
        "text=input(\"Enter your text: \")\n",
        "emails = re.findall(r\"[a-z0-9\\.\\-+_]+@[a-z0-9\\.\\-+_]+\\.[a-z]+\",text)\n",
        "for email in emails:\n",
        "    print(email)\n"
      ],
      "metadata": {
        "colab": {
          "base_uri": "https://localhost:8080/"
        },
        "id": "8_pn-Fgfp0Dh",
        "outputId": "d20d2e54-9f8d-4ccc-8714-c68ccf44359b"
      },
      "execution_count": null,
      "outputs": [
        {
          "output_type": "stream",
          "name": "stdout",
          "text": [
            "Enter your text: hey! hello! abcd@gmail.com\n",
            "abcd@gmail.com\n"
          ]
        }
      ]
    },
    {
      "cell_type": "markdown",
      "source": [
        "File word counter: Creates the file and counts the occurences of each word"
      ],
      "metadata": {
        "id": "raFV_cGmqVP_"
      }
    },
    {
      "cell_type": "code",
      "source": [
        "#creating my own file with the users' input and then returning with the word count\n",
        "files = open('sample.txt','w')\n",
        "files.write(input(\"Enter the content of the file: \"))\n",
        "files.close()\n",
        "files = open('sample.txt','r')\n",
        "wordsl={}\n",
        "\n",
        "for line in files:\n",
        "    print(line)\n",
        "    for word in line.split():\n",
        "        if word in wordsl:\n",
        "            wordsl[word]+=1\n",
        "        else:\n",
        "            wordsl[word]=1\n",
        "for word in wordsl:\n",
        "    print(word, wordsl[word])\n",
        "\n",
        "files.close()\n",
        "\n"
      ],
      "metadata": {
        "colab": {
          "base_uri": "https://localhost:8080/"
        },
        "id": "31E6Qtp9qkSm",
        "outputId": "5625b292-8cec-4b01-f0b7-10ce8d9cca13"
      },
      "execution_count": null,
      "outputs": [
        {
          "output_type": "stream",
          "name": "stdout",
          "text": [
            "Enter the content of the file: Hey i am creating this file. a file to just check\n",
            "Hey i am creating this file. a file to just check\n",
            "Hey 1\n",
            "i 1\n",
            "am 1\n",
            "creating 1\n",
            "this 1\n",
            "file. 1\n",
            "a 1\n",
            "file 1\n",
            "to 1\n",
            "just 1\n",
            "check 1\n"
          ]
        }
      ]
    },
    {
      "cell_type": "markdown",
      "source": [
        "Substrings dilemma\n",
        "Generate the longest substrings for a given word which doesnt have a character repetition and if there are more than one such strings, print the first occurrence"
      ],
      "metadata": {
        "id": "67WKyewUqsnp"
      }
    },
    {
      "cell_type": "code",
      "source": [
        "#Generate substrings\n",
        "\n",
        "word = input(\"Enter the word: \")\n",
        "sub=list(word[i:j] for i in range(len(word)) for j in range(i+1,len(word)+1))\n",
        "sub.sort(reverse=True)\n",
        "sub.sort(key=len,reverse=True)\n",
        "subs=[]\n",
        "for word in sub:\n",
        "    c=0\n",
        "    for j in word:\n",
        "        if word.count(j)>1:\n",
        "            c=1\n",
        "            break\n",
        "    if c==0:\n",
        "        subs.append(word)\n",
        "print(subs[0])\n"
      ],
      "metadata": {
        "colab": {
          "base_uri": "https://localhost:8080/"
        },
        "id": "W6Ww-kl_q_4f",
        "outputId": "4ad5d75d-032c-4a0b-b85e-e1e5d359f67e"
      },
      "execution_count": null,
      "outputs": [
        {
          "output_type": "stream",
          "name": "stdout",
          "text": [
            "Enter the word: character\n",
            "racte\n"
          ]
        }
      ]
    },
    {
      "cell_type": "markdown",
      "source": [
        "Calculate GCD using Eucledian method: a recursive approach"
      ],
      "metadata": {
        "id": "sEKlzpC5rDf8"
      }
    },
    {
      "cell_type": "code",
      "source": [
        "def gcd(a,b):\n",
        "    if a==0:\n",
        "        return b\n",
        "    elif b==0:\n",
        "        return a\n",
        "    else:\n",
        "        if a>b:\n",
        "            return gcd(a-b,b)\n",
        "        else:\n",
        "            return gcd(a,b-a)\n",
        "\n",
        "a = int(input(\"Enter a number: \"))\n",
        "b = int(input(\"Enter a number: \"))\n",
        "print(\"The required GCD is:\",gcd(a,b))\n",
        "\n"
      ],
      "metadata": {
        "colab": {
          "base_uri": "https://localhost:8080/"
        },
        "id": "6PMbPfx_rLDI",
        "outputId": "ca2299d2-fec0-420a-b0ed-5c2e4af32e48"
      },
      "execution_count": null,
      "outputs": [
        {
          "output_type": "stream",
          "name": "stdout",
          "text": [
            "Enter a number: 81\n",
            "Enter a number: 9000\n",
            "The required GCD is: 9\n"
          ]
        }
      ]
    },
    {
      "cell_type": "markdown",
      "source": [
        "The famous infinite monkey thm\n",
        "enter a word and see when the monkey types it. Have some patience:)"
      ],
      "metadata": {
        "id": "DhJGpXCJrOZK"
      }
    },
    {
      "cell_type": "code",
      "source": [
        "# Infinite Monkey Theorem\n",
        "import random\n",
        "class Monkey:\n",
        "    def __init__(self,best=0,sen=None):\n",
        "        self.best=best\n",
        "        self.sen=sen\n",
        "\n",
        "\n",
        "    def sentence_input(self):\n",
        "        self.sen = input(\"Please enter the string: \")\n",
        "\n",
        "    def match(self,gen):\n",
        "        if self.sen==gen:\n",
        "            print(\"Found\")\n",
        "            self.best=100\n",
        "            return\n",
        "        self.best_score_update(gen)\n",
        "\n",
        "\n",
        "    def score(self,gen):\n",
        "        score=0\n",
        "        for i in range(len(self.sen)):\n",
        "            if self.sen[i]==gen[i]:\n",
        "                score+=1\n",
        "        return (score/len(gen))*100\n",
        "\n",
        "\n",
        "    def best_score_update(self,gen):\n",
        "        s= self.score(gen)\n",
        "        if s>self.best:\n",
        "            self.best = s\n",
        "        return\n",
        "\n",
        "    def generate(self):\n",
        "        l = len(self.sen)\n",
        "        alphabets = \"abcdefghijklmnopqrstuvwxyz \"\n",
        "        gen=\"\"\n",
        "        while len(gen)!=l:\n",
        "            gen+= alphabets[random.randint(0,26)]\n",
        "        self.match(gen)\n",
        "\n",
        "print(\"Welcome!\")\n",
        "\n",
        "monkey= Monkey()\n",
        "monkey.sentence_input()\n",
        "opt='Y'\n",
        "check=0\n",
        "while monkey.best!=100 and opt=='Y':\n",
        "    count=0\n",
        "\n",
        "    while monkey.best!=100 and count!=10000:\n",
        "        monkey.generate()\n",
        "        count+=1\n",
        "        check+=1\n",
        "    if count==10000 and monkey.best!=0:\n",
        "        print(\"Completed 10000 trials but didnt find yet\")\n",
        "        print(\"Your best score till now:\",monkey.best)\n",
        "        print(\"Wanna continue?\")\n",
        "        opt=input(\"Y or N\")\n",
        "print(check)\n",
        "\n",
        "\n"
      ],
      "metadata": {
        "colab": {
          "base_uri": "https://localhost:8080/"
        },
        "id": "wC2IJAjhrpKk",
        "outputId": "87468c16-9a72-4e78-d904-be526b6d04be"
      },
      "execution_count": null,
      "outputs": [
        {
          "output_type": "stream",
          "name": "stdout",
          "text": [
            "Welcome!\n",
            "Please enter the string: hey\n",
            "Completed 10000 trials but didnt find yet\n",
            "Your best score till now: 66.66666666666666\n",
            "Wanna continue?\n",
            "Y or NY\n",
            "Completed 10000 trials but didnt find yet\n",
            "Your best score till now: 66.66666666666666\n",
            "Wanna continue?\n",
            "Y or NY\n",
            "Completed 10000 trials but didnt find yet\n",
            "Your best score till now: 66.66666666666666\n",
            "Wanna continue?\n",
            "Y or NY\n",
            "Completed 10000 trials but didnt find yet\n",
            "Your best score till now: 66.66666666666666\n",
            "Wanna continue?\n",
            "Y or NY\n",
            "Completed 10000 trials but didnt find yet\n",
            "Your best score till now: 66.66666666666666\n",
            "Wanna continue?\n",
            "Y or NY\n",
            "Found\n",
            "56369\n"
          ]
        }
      ]
    },
    {
      "cell_type": "markdown",
      "source": [
        "List Permutations: Give a list and get all of its permutations"
      ],
      "metadata": {
        "id": "CDSvwBQ1t16x"
      }
    },
    {
      "cell_type": "code",
      "source": [
        "arr = list(map(int,input(\"Enter space seperated integers: \").split()))\n",
        "arr.sort()\n",
        "permutations=[]\n",
        "for i in range(len(arr)):\n",
        "    for j in range(i+1,len(arr)+1):\n",
        "        a = arr[i:j]\n",
        "        permutations.append(a)\n",
        "permutations.sort()\n",
        "permutations.sort(key=len)\n",
        "for i in permutations:\n",
        "    print(i)\n"
      ],
      "metadata": {
        "colab": {
          "base_uri": "https://localhost:8080/"
        },
        "id": "W9i6PYd4vMvC",
        "outputId": "b81e87f1-7e68-4270-8bf9-7e5aa986470b"
      },
      "execution_count": null,
      "outputs": [
        {
          "output_type": "stream",
          "name": "stdout",
          "text": [
            "Enter space seperated integers: 1 2 3\n",
            "[1]\n",
            "[2]\n",
            "[3]\n",
            "[1, 2]\n",
            "[2, 3]\n",
            "[1, 2, 3]\n"
          ]
        }
      ]
    },
    {
      "cell_type": "markdown",
      "source": [
        "The MASTERMIND\n",
        "Guess a 4 digit number.\n",
        "rules:\n",
        "You have 10 chances.\n",
        "System displays:   Y for correct digit but in wrong position; R for correct digit in correct position; B for wrong digit in wrong position.\n",
        "Hope to see you win!"
      ],
      "metadata": {
        "id": "2ZC2Au9tvRCE"
      }
    },
    {
      "cell_type": "code",
      "source": [
        "import random\n",
        "\n",
        "def generate():\n",
        "    code=''\n",
        "    code+=str(random.randint(1,9))\n",
        "    for i in range(3):\n",
        "        code+=str(random.randint(0,9))\n",
        "    return code\n",
        "\n",
        "code = generate()\n",
        "for j in range(10):\n",
        "    guess=input(\"Guess the code:\")\n",
        "    out=[0,0,0,0]\n",
        "    for i in range(4):\n",
        "        if code[i]==guess[i]:\n",
        "            out[i]='R'\n",
        "        else:\n",
        "            if guess[i] in code:\n",
        "                out[i]='Y'\n",
        "            else:\n",
        "                out[i]='B'\n",
        "    count=0\n",
        "    for k in out:\n",
        "        if k=='R':\n",
        "            count+=1\n",
        "        print(k,end='')\n",
        "    print()\n",
        "    if count==4:\n",
        "        print(\"Success\")\n",
        "        break"
      ],
      "metadata": {
        "colab": {
          "base_uri": "https://localhost:8080/"
        },
        "id": "2BPDV3a1wDMx",
        "outputId": "0752f4ac-91e7-4d2f-8503-543191397f87"
      },
      "execution_count": null,
      "outputs": [
        {
          "output_type": "stream",
          "name": "stdout",
          "text": [
            "Guess the code:8365\n",
            "RBRB\n",
            "Guess the code:8462\n",
            "RBRB\n",
            "Guess the code:8760\n",
            "RBRB\n",
            "Guess the code:8961\n",
            "RBRB\n",
            "Guess the code:8668\n",
            "RRRR\n",
            "Success\n"
          ]
        }
      ]
    },
    {
      "cell_type": "markdown",
      "source": [
        "Palindrome check"
      ],
      "metadata": {
        "id": "p3ZE74-lwnNk"
      }
    },
    {
      "cell_type": "code",
      "source": [
        "a = input(\"Enter the string: \")\n",
        "c=0\n",
        "for i in range(len(a)):\n",
        "    if a[i]==a[len(a)-i-1]:\n",
        "        continue\n",
        "    else:\n",
        "        print(\"Not a palindrome\")\n",
        "        c=1\n",
        "        break\n",
        "if c==0:\n",
        "    print(\"Palindrome\")\n"
      ],
      "metadata": {
        "colab": {
          "base_uri": "https://localhost:8080/"
        },
        "id": "SwNrTCkSwr9i",
        "outputId": "9f5c687a-04e9-40da-9b69-71a72954bc47"
      },
      "execution_count": null,
      "outputs": [
        {
          "output_type": "stream",
          "name": "stdout",
          "text": [
            "Enter the string: abcdcba\n",
            "Palindrome\n"
          ]
        }
      ]
    },
    {
      "cell_type": "markdown",
      "source": [
        "Get to check if your string is palindrome or not"
      ],
      "metadata": {
        "id": "JgvT5b8MwwmL"
      }
    },
    {
      "cell_type": "code",
      "source": [
        "from math import factorial\n",
        "n=int(input(\"Enter the number of rows: \"))\n",
        "for i in range(n):\n",
        "    for j in range(n-i+1):\n",
        "        print(end=' ')\n",
        "    for j in range(i+1):\n",
        "        print(factorial(i)//(factorial(j)*factorial(i-j)),end=\" \")\n",
        "    print()\n",
        "\n",
        "\n",
        "\n"
      ],
      "metadata": {
        "colab": {
          "base_uri": "https://localhost:8080/"
        },
        "id": "WNzwklTzw1w7",
        "outputId": "18bd8bf9-a882-4be0-df62-ed06897022cb"
      },
      "execution_count": null,
      "outputs": [
        {
          "output_type": "stream",
          "name": "stdout",
          "text": [
            "Enter the number of rows: 5\n",
            "      1 \n",
            "     1 1 \n",
            "    1 2 1 \n",
            "   1 3 3 1 \n",
            "  1 4 6 4 1 \n"
          ]
        }
      ]
    },
    {
      "cell_type": "markdown",
      "source": [
        "Get your passwords generated now!"
      ],
      "metadata": {
        "id": "OvQ6G0Now55l"
      }
    },
    {
      "cell_type": "code",
      "source": [
        "import random\n",
        "lower_alpha=\"abcdefghijklmnopqrstuvwxyz\"\n",
        "upper_alpha=\"ABCDEFGHIJKLMNOPQRSTUVWXYZ\"\n",
        "symbols_list=\"!@#$%^&*:,;\"\n",
        "numbers_list=\"0123456789\"\n",
        "\n",
        "opt='Y'\n",
        "while opt=='Y':\n",
        "    length=int(input(\"Enter the length of the password: \"))\n",
        "    upper = input(\"Include UPPER case letters? Y/N \")\n",
        "    numbers = input(\"Include numbers? Y/N\" )\n",
        "    symbols = input(\"Include Symbols? Y/N\" )\n",
        "    password=''\n",
        "    total=[]\n",
        "    total.append(lower_alpha)\n",
        "    if upper=='Y':\n",
        "        total.append(upper_alpha)\n",
        "    if numbers=='Y':\n",
        "        total.append(numbers_list)\n",
        "    if symbols=='Y':\n",
        "        total.append(symbols_list)\n",
        "    while len(password)!=length:\n",
        "        choice=total[random.randint(0,len(total)-1)]\n",
        "        password+=choice[random.randint(0,len(choice)-1)]\n",
        "    print(\"How about this: \",password)\n",
        "    opt=input(\"Wanna try again? Y/N: \")\n",
        "\n",
        "Y"
      ],
      "metadata": {
        "colab": {
          "base_uri": "https://localhost:8080/"
        },
        "id": "gZl0E-iRw-qy",
        "outputId": "1c5642a2-2d6d-4416-b063-d4dff35dbf3c"
      },
      "execution_count": null,
      "outputs": [
        {
          "name": "stdout",
          "output_type": "stream",
          "text": [
            "Enter the length of the password: 16\n",
            "Include UPPER case letters? Y/N Y\n",
            "Include numbers? Y/NY\n",
            "Include Symbols? Y/NN\n",
            "How about this:  13F3yURh46o2XS4I\n",
            "Wanna try again? Y/N: Y\n",
            "Enter the length of the password: 30\n",
            "Include UPPER case letters? Y/N Y\n",
            "Include numbers? Y/NY\n",
            "Include Symbols? Y/NY\n",
            "How about this:  9B#*31*1fF50q&Y8t:e#25$n,IP2yK\n",
            "Wanna try again? Y/N: N\n"
          ]
        }
      ]
    },
    {
      "cell_type": "markdown",
      "source": [
        "Check if your strings are anagrams, now!"
      ],
      "metadata": {
        "id": "1HdCAqVSxf8B"
      }
    },
    {
      "cell_type": "code",
      "source": [
        "opt='Y'\n",
        "while opt=='Y':\n",
        "    word = input(\"Enter word 1: \")\n",
        "    anagram = input(\"Enter word 2: \")\n",
        "    if ''.join(sorted(word)) == ''.join(sorted(anagram)):\n",
        "        print(\"TRUE\")\n",
        "    else:\n",
        "        print(\"FALSE\")\n",
        "    print(\"Wanna try again? Y/N\")\n",
        "    opt=input()"
      ],
      "metadata": {
        "colab": {
          "base_uri": "https://localhost:8080/"
        },
        "id": "iC_fuYUIxnJL",
        "outputId": "ecf72381-2f40-4301-bfed-fa6a129ecb32"
      },
      "execution_count": null,
      "outputs": [
        {
          "name": "stdout",
          "output_type": "stream",
          "text": [
            "Enter word 1: silent\n",
            "Enter word 2: listen\n",
            "TRUE\n",
            "Wanna try again? Y/N\n",
            "Y\n",
            "Enter word 1: hey\n",
            "Enter word 2: nope\n",
            "FALSE\n",
            "Wanna try again? Y/N\n",
            "n\n"
          ]
        }
      ]
    },
    {
      "cell_type": "markdown",
      "source": [
        "Text encryption and decryption using numerical cipher shifting"
      ],
      "metadata": {
        "id": "_Qt9U1EExtbE"
      }
    },
    {
      "cell_type": "code",
      "source": [
        "alpha=\"abcdefghijklmnopqrstuvwxyz\"\n",
        "opt='Y'\n",
        "while opt=='Y':\n",
        "  word = input(\"Enter the string: \")\n",
        "  cipher = int(input(\"Enter the cipher: \"))\n",
        "  opt=input(\"Encryption or decryption? E/D: \")\n",
        "  if opt=='E':\n",
        "      enc=''\n",
        "      for i in range(len(word)):\n",
        "          if word[i] in alpha:\n",
        "              index=alpha.index(word[i])+cipher\n",
        "              if index>=len(alpha):\n",
        "                  index-=len(alpha)\n",
        "              enc+=alpha[index]\n",
        "          else:\n",
        "              enc+=word[i]\n",
        "\n",
        "      print(\"The encrypted string is: \",enc)\n",
        "  elif opt=='D':\n",
        "      dec=''\n",
        "      for i in range(len(word)):\n",
        "          if word[i] in alpha:\n",
        "              index=alpha.index(word[i])-cipher\n",
        "              if index<=0:\n",
        "                  index+=len(alpha)\n",
        "              dec+=alpha[index]\n",
        "          else:\n",
        "              dec+=word[i]\n",
        "      print(\"The decrypted string is: \",dec)\n",
        "  else:\n",
        "      print(\"INVALID INPUT:(\")\n",
        "  opt=input(\"Wanna try again? Y/N: \")\n"
      ],
      "metadata": {
        "colab": {
          "base_uri": "https://localhost:8080/"
        },
        "id": "PY_6klPsx8nN",
        "outputId": "61c4dd5a-4f55-4d61-ed68-f18556d745ac"
      },
      "execution_count": null,
      "outputs": [
        {
          "name": "stdout",
          "output_type": "stream",
          "text": [
            "Enter the string: hello\n",
            "Enter the cipher: 3\n",
            "Encryption or decryption? E/D: E\n",
            "The encrypted string is:  khoor\n",
            "Wanna try again? Y/N: Y\n",
            "Enter the string: khoor\n",
            "Enter the cipher: 3\n",
            "Encryption or decryption? E/D: D\n",
            "The decrypted string is:  hello\n",
            "Wanna try again? Y/N: N\n"
          ]
        }
      ]
    },
    {
      "cell_type": "markdown",
      "source": [
        "URL shortener: get your your URLs shortened :)"
      ],
      "metadata": {
        "id": "QxugtxAEyW_q"
      }
    },
    {
      "cell_type": "code",
      "source": [
        "pip install pyshorteners\n"
      ],
      "metadata": {
        "colab": {
          "base_uri": "https://localhost:8080/"
        },
        "id": "Tz1TfiZfyhxF",
        "outputId": "3ade908f-c3c0-4499-e623-96b064055b72"
      },
      "execution_count": null,
      "outputs": [
        {
          "output_type": "stream",
          "name": "stdout",
          "text": [
            "Collecting pyshorteners\n",
            "  Downloading pyshorteners-1.0.1.tar.gz (10.0 kB)\n",
            "  Preparing metadata (setup.py) ... \u001b[?25l\u001b[?25hdone\n",
            "Requirement already satisfied: requests in /usr/local/lib/python3.10/dist-packages (from pyshorteners) (2.27.1)\n",
            "Requirement already satisfied: urllib3<1.27,>=1.21.1 in /usr/local/lib/python3.10/dist-packages (from requests->pyshorteners) (1.26.16)\n",
            "Requirement already satisfied: certifi>=2017.4.17 in /usr/local/lib/python3.10/dist-packages (from requests->pyshorteners) (2023.7.22)\n",
            "Requirement already satisfied: charset-normalizer~=2.0.0 in /usr/local/lib/python3.10/dist-packages (from requests->pyshorteners) (2.0.12)\n",
            "Requirement already satisfied: idna<4,>=2.5 in /usr/local/lib/python3.10/dist-packages (from requests->pyshorteners) (3.4)\n",
            "Building wheels for collected packages: pyshorteners\n",
            "  Building wheel for pyshorteners (setup.py) ... \u001b[?25l\u001b[?25hdone\n",
            "  Created wheel for pyshorteners: filename=pyshorteners-1.0.1-py3-none-any.whl size=17478 sha256=a7fbe53613adff4e02f1802c84a1b81f0cb0592dad6773cefa820808e34837c3\n",
            "  Stored in directory: /root/.cache/pip/wheels/d5/ff/b3/16d8906f92ab0b042f76a4696fcea11d291d79a2b3a3de1e78\n",
            "Successfully built pyshorteners\n",
            "Installing collected packages: pyshorteners\n",
            "Successfully installed pyshorteners-1.0.1\n"
          ]
        }
      ]
    },
    {
      "cell_type": "code",
      "source": [
        "#url shortening using tiny url and pyshorteners library\n",
        "import pyshorteners as p\n",
        "long = input(\"Enter the original url: \")\n",
        "short = p.Shortener().tinyurl.short(long)\n",
        "print(short)"
      ],
      "metadata": {
        "colab": {
          "base_uri": "https://localhost:8080/"
        },
        "id": "rIdADDJpyeff",
        "outputId": "0ef39b1b-896e-4b26-86f1-4a33a1f550cf"
      },
      "execution_count": null,
      "outputs": [
        {
          "output_type": "stream",
          "name": "stdout",
          "text": [
            "Enter the original url: https://colab.research.google.com/drive/1WnIZFnjLekjsCwJn7TC99xNwZl-YORDz#scrollTo=rIdADDJpyeff\n",
            "https://tinyurl.com/2994uwou\n"
          ]
        }
      ]
    }
  ]
}